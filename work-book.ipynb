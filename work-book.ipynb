{
 "cells": [
  {
   "cell_type": "code",
   "execution_count": 1,
   "metadata": {},
   "outputs": [],
   "source": [
    "input_file = 'C:\\\\sarg\\\\python\\\\work\\\\mysql_slow_log_parser\\\\logs\\\\AWL-BKD-ASPDB-slow'\n",
    "output_file = 'C:\\\\sarg\\\\python\\\\work\\\\mysql_slow_log_parser\\\\logs\\\\AWL-BKD-ASPDB-slow-2022'\n",
    "start_line = 85052\n",
    "\n",
    "with open(input_file, 'r') as f_in, open(output_file, 'w') as f_out:\n",
    "    for i, line in enumerate(f_in):\n",
    "        if i >= start_line - 1:\n",
    "            f_out.write(line)"
   ]
  },
  {
   "cell_type": "code",
   "execution_count": null,
   "metadata": {},
   "outputs": [],
   "source": [
    "# #filename = 'input.txt'\n",
    "\n",
    "# with open(output_file, 'r') as f:\n",
    "#     lines = f.readlines()\n",
    "#     first_line = lines[0]\n",
    "#     last_line = lines[-1]\n",
    "\n",
    "# print(f'First line: {first_line}')\n",
    "# print(f'Last line: {last_line}')"
   ]
  },
  {
   "cell_type": "code",
   "execution_count": 4,
   "metadata": {},
   "outputs": [
    {
     "name": "stdout",
     "output_type": "stream",
     "text": [
      "First line: b\"/* insert com.worldline.bizfuse.bip.awf.spring.model.TcpProxyMessageLog */ insert into BIP_TCP_PROXY_LOG (CREATED_DATE, MODIFIED_DATE, CLIENT_ID, DIRECTION, EXCEPTION, HOST_DATETIME, HOST_HEADER, INSTANCE_ID, RAW_MESSAGE, RESULT, RETURN_CODE, SERVICE_ID, SOCKET_WORKER_ID, TIMESTAMP, TRACE, TYPE) values ('2021-12-31 05:11:19.788', '2021-12-31 05:11:19.788', 'ASP Node 2          ', 'INCOMING', null, '2021123105111938', '                                                                      ', 'ASP Node 2', 'BIZFUSE_B0000201*TRNRES*ASP Node 2          2021123105111938ecab2b3f-0283-4380-9027-cdf780f3e424              00000000                                                                                                                                       00                              19130174031001735179688904065006   60800000000005830545062  0000000200000000000000000000000000000000000001672815000000006000000000000000000000000000000000000060000000000000000000000000000000000000000149209020211213                    00000000250000000032718500000000000000000000000000000000000000000000000000000000000000003271850000000000000000000000000000000000002013101620100122201910252014102420211212000000000000000000002021122620220120000000003271850000000000000000000000000000000000000000000000000032718500000000000000000000000000000000000000000000000000000000000000000219210000000002192100000000000000F0ZZZZZZZZZZZZZZZZZZZZZZ000000000500000020000000000000000000000000000000000000000000000000000000000000000000000000000000000000000000000000000000000000000000000000000000000000000000000000000000000000000000000000000000000000000000000000000000000000000000000000000000000050000201001220000000000000000000000000000000000000000000000002601  20000000000000019740310                              TT    ', 'SUCCESS', '00000000', 'B0000201', 'AWL-BKD-ASPAPP2.MYAWL.LOCAL:6531-192.168.8.20:10940', '2021-12-31 05:11:19.401', 'ecab2b3f-0283-4380-9027-cdf780f3e424              ', 'RESPONSE');\\r\\n\"\n",
      "Last line: /* insert com.worldline.bizfuse.bip.awf.spring.model.ServiceLog */ insert into BIP_SERVICE_LOG (CREATED_DATE, MODIFIED_DATE, COMPONENT_TYPE, CONNECTION_TYPE, DESTINATION, REMARK, SERVICE_TYPE, SOURCE, SERVICE_LOG_STATUS, TRACE, SERVICE_LOG_TYPE, WS_CHANNEL_TRACE, WS_DATETIME, WS_LOG, WS_STATUS_CODE, WS_STATUS_CODE_DESC, WS_USERNAME) values ('2023-06-22 23:21:27.462', '2023-06-22 23:21:27.462', 'SERVICE_CHANNEL', 'SOAP', '192.168.8.7', '', 'BKD_WS_0116', '192.168.8.6', 'SUCCESS', '933d2f65-ab81-437b-823b-d7e9bb1c3c8a', 'RESPONSE', '8c67d2c2-a30f-4dd3-ad3d-77f816b80a30', '2023-06-22 22:57:56.076', null, '00000000', 'OK', 'MSA_RCBCMobileApp');\n",
      "\n"
     ]
    }
   ],
   "source": [
    "#filename = 'input.txt'\n",
    "input_file = 'C:\\\\sarg\\\\python\\\\work\\\\mysql_slow_log_parser\\\\logs\\\\AWL-BKD-ASPDB-slow'\n",
    "\n",
    "with open(input_file, 'rb') as f:\n",
    "    first_line = f.readline()\n",
    "    f.seek(0, 2)  # Seek to the end of the file\n",
    "    f.seek(f.tell() - 2)  # Seek to the second last byte\n",
    "    while f.read(1) != b'\\n':  # Keep seeking backwards until a newline character is found\n",
    "        f.seek(-2, 1)\n",
    "    last_line = f.readline().decode()\n",
    "\n",
    "print(f'First line: {first_line}')\n",
    "print(f'Last line: {last_line}')"
   ]
  },
  {
   "cell_type": "code",
   "execution_count": 10,
   "metadata": {},
   "outputs": [
    {
     "name": "stdout",
     "output_type": "stream",
     "text": [
      "First line: C:\\Program Files\\MySQL\\MySQL Server 5.7\\bin\\mysqld.exe, Version: 5.7.24-log (MySQL Community Server (GPL)). started with:\n",
      "\n",
      "First line number: 1\n",
      "Last line: /* insert com.worldline.bizfuse.bip.awf.spring.model.ServiceLog */ insert into BIP_SERVICE_LOG (CREATED_DATE, MODIFIED_DATE, COMPONENT_TYPE, CONNECTION_TYPE, DESTINATION, REMARK, SERVICE_TYPE, SOURCE, SERVICE_LOG_STATUS, TRACE, SERVICE_LOG_TYPE, WS_CHANNEL_TRACE, WS_DATETIME, WS_LOG, WS_STATUS_CODE, WS_STATUS_CODE_DESC, WS_USERNAME) values ('2023-06-22 23:21:27.462', '2023-06-22 23:21:27.462', 'SERVICE_CHANNEL', 'SOAP', '192.168.8.7', '', 'BKD_WS_0116', '192.168.8.6', 'SUCCESS', '933d2f65-ab81-437b-823b-d7e9bb1c3c8a', 'RESPONSE', '8c67d2c2-a30f-4dd3-ad3d-77f816b80a30', '2023-06-22 22:57:56.076', null, '00000000', 'OK', 'MSA_RCBCMobileApp');\n",
      "\n",
      "Last line number: 83173794\n"
     ]
    }
   ],
   "source": [
    "input_file = 'C:\\\\sarg\\\\python\\\\work\\\\mysql_slow_log_parser\\\\logs\\\\AWL-BKD-ASPDB-slow'\n",
    "with open(input_file, 'rb') as f:\n",
    "    first_line = f.readline().decode()\n",
    "    first_line_number = 1\n",
    "    f.seek(0, 2)  # Seek to the end of the file\n",
    "    f.seek(f.tell() - 2)  # Seek to the second last byte\n",
    "    while f.read(1) != b'\\n':  # Keep seeking backwards until a newline character is found\n",
    "        f.seek(-2, 1)\n",
    "    last_line = f.readline().decode()\n",
    "    last_line_number = sum(1 for line in open(input_file))\n",
    "\n",
    "print(f'First line: {first_line}')\n",
    "print(f'First line number: {first_line_number}')\n",
    "print(f'Last line: {last_line}')\n",
    "print(f'Last line number: {last_line_number}')"
   ]
  },
  {
   "cell_type": "code",
   "execution_count": 6,
   "metadata": {},
   "outputs": [],
   "source": [
    "# input_month_file = 'C:\\\\sarg\\\\python\\\\work\\\\mysql_slow_log_parser\\\\logs\\\\AWL-BKD-ASPDB-slow'\n",
    "# output_month_file = 'C:\\\\sarg\\\\python\\\\work\\\\mysql_slow_log_parser\\\\logs\\\\output-2022-Jan-slow'\n",
    "# stop_line = '# Time: 2022-02-01'\n",
    "\n",
    "# with open(input_month_file, 'r') as f_in, open(output_month_file, 'w') as f_out:\n",
    "#     for line in f_in:\n",
    "#         if line.strip() == stop_line:\n",
    "#             break\n",
    "#         f_out.write(line)"
   ]
  },
  {
   "cell_type": "code",
   "execution_count": null,
   "metadata": {},
   "outputs": [],
   "source": [
    "# input_slow_file = 'C:\\\\sarg\\\\python\\\\work\\\\mysql_slow_log_parser\\\\logs\\\\AWL-BKD-ASPDB-slow'\n",
    "# output_slow_file = 'C:\\\\sarg\\\\python\\\\work\\\\mysql_slow_log_parser\\\\logs\\\\AWL-BKD-ASPDB-slow-2022-Feb'\n",
    "# start_line = '# Time: 2022-02-01'\n",
    "# stop_line = '# Time: 2022-03-01'\n",
    "\n",
    "# copying = False\n",
    "\n",
    "# with open(input_slow_file, 'r') as f_in, open(output_slow_file, 'w') as f_out:\n",
    "#     for line in f_in:\n",
    "#         if line.strip() == start_line:\n",
    "#             copying = True\n",
    "#         elif line.strip() == stop_line:\n",
    "#             copying = False\n",
    "#         elif copying:\n",
    "#             f_out.write(line)"
   ]
  },
  {
   "cell_type": "code",
   "execution_count": 16,
   "metadata": {},
   "outputs": [],
   "source": [
    "input_slow_file = 'C:\\\\sarg\\\\python\\\\work\\\\mysql_slow_log_parser\\\\logs\\\\AWL-BKD-ASPDB-slow'\n",
    "\n",
    "search_line = \"# Time: 2022\"\n",
    "\n",
    "with open(input_slow_file, 'r') as f:\n",
    "    for i, line in enumerate(f, 1):\n",
    "        if line.strip() == search_line:\n",
    "            print(f'Line number: {i}')\n",
    "            break\n"
   ]
  },
  {
   "cell_type": "code",
   "execution_count": 17,
   "metadata": {},
   "outputs": [
    {
     "data": {
      "text/plain": [
       "'# Time: 2022'"
      ]
     },
     "execution_count": 17,
     "metadata": {},
     "output_type": "execute_result"
    }
   ],
   "source": [
    "search_line"
   ]
  }
 ],
 "metadata": {
  "kernelspec": {
   "display_name": "Python 3.9.2 64-bit",
   "language": "python",
   "name": "python3"
  },
  "language_info": {
   "codemirror_mode": {
    "name": "ipython",
    "version": 3
   },
   "file_extension": ".py",
   "mimetype": "text/x-python",
   "name": "python",
   "nbconvert_exporter": "python",
   "pygments_lexer": "ipython3",
   "version": "3.9.2"
  },
  "orig_nbformat": 4,
  "vscode": {
   "interpreter": {
    "hash": "11938c6bc6919ae2720b4d5011047913343b08a43b18698fd82dedb0d4417594"
   }
  }
 },
 "nbformat": 4,
 "nbformat_minor": 2
}
